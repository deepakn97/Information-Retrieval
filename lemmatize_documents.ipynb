{
 "cells": [
  {
   "cell_type": "code",
   "execution_count": 20,
   "metadata": {},
   "outputs": [],
   "source": [
    "import nltk"
   ]
  },
  {
   "cell_type": "code",
   "execution_count": 21,
   "metadata": {},
   "outputs": [],
   "source": [
    "import csv\n",
    "import pandas as pd\n",
    "from nltk.stem import WordNetLemmatizer\n",
    "from nltk.tokenize import RegexpTokenizer\n",
    "from nltk.corpus import stopwords,wordnet"
   ]
  },
  {
   "cell_type": "code",
   "execution_count": 22,
   "metadata": {},
   "outputs": [
    {
     "name": "stdout",
     "output_type": "stream",
     "text": [
      "[nltk_data] Downloading package wordnet to /home/ysahil/nltk_data...\n",
      "[nltk_data]   Package wordnet is already up-to-date!\n"
     ]
    },
    {
     "data": {
      "text/plain": [
       "True"
      ]
     },
     "execution_count": 22,
     "metadata": {},
     "output_type": "execute_result"
    }
   ],
   "source": [
    "nltk.download('wordnet')"
   ]
  },
  {
   "cell_type": "code",
   "execution_count": 23,
   "metadata": {},
   "outputs": [],
   "source": [
    "'''\n",
    "Function to lemmatize the given document\n",
    "Arguments:\n",
    "tokens - A list of strings which correspond to each word present in the document\n",
    "\n",
    "Return Values:\n",
    "filtered_document - A list of strings which results from lemmatizing each word in tokens\n",
    "'''\n",
    "def lmtizeDocument(tokens):\n",
    "    filtered_document = []\n",
    "    wordnet_pos = ''\n",
    "    pos_tokens = nltk.pos_tag(tokens)\n",
    "    for i in pos_tokens:\n",
    "        if i[1].startswith('J'):\n",
    "            wordnet_pos = wordnet.ADJ\n",
    "        elif i[1].startswith('V'):\n",
    "            wordnet_pos = wordnet.VERB\n",
    "        elif i[1].startswith('N'):\n",
    "            wordnet_pos = wordnet.NOUN\n",
    "        elif i[1].startswith('R'):\n",
    "            wordnet_pos = wordnet.ADV\n",
    "        else:\n",
    "            wordnet_pos = wordnet.ADJ_SAT\n",
    "        filtered_document.append(wordnet_lemmatizer.lemmatize(i[0],pos = wordnet_pos))\n",
    "    return filtered_document"
   ]
  },
  {
   "cell_type": "code",
   "execution_count": 24,
   "metadata": {},
   "outputs": [
    {
     "name": "stdout",
     "output_type": "stream",
     "text": [
      "['from', 'the', 'view', 'of', 'somebody', 'offer', 'a', 'web', 'application', 'when', 'somebody', 'connect', 'with', 'tl', 'http', 'to', 'our', 'service', 'and', 'submit', 'the', 'correct', 'authentication', 'data', 'be', 'it', 'safe', 'to', 'transmit', 'all', 'sensitive', 'data', 'over', 'this', 'line', 'or', 'can', 'it', 'be', 'that', 'there', 'be', 'still', 'eavesdrop', 'this', 'question', 'be', 'it', 'security', 'question', 'of', 'the', 'week', 'read', 'the', 'jul', '29', '2011', 'blog', 'entry', 'for', 'more', 'detail', 'or', 'submit', 'your', 'own', 'question', 'of', 'the', 'week', 'do', 'an', 'establish', 'http', 'connection', 'mean', 'a', 'line', 'be', 'really', 'secure']\n"
     ]
    }
   ],
   "source": [
    "wordnet_lemmatizer = WordNetLemmatizer()\n",
    "tokenizer = RegexpTokenizer(r'\\w+')\n",
    "stop_words = set(stopwords.words('english'))\n",
    "data = pd.read_csv('questions-data.csv')\n",
    "\n",
    "tokens = tokenizer.tokenize(data['Text'][2])\n",
    "print(lmtizeDocument(tokens))"
   ]
  },
  {
   "cell_type": "code",
   "execution_count": null,
   "metadata": {},
   "outputs": [],
   "source": []
  }
 ],
 "metadata": {
  "kernelspec": {
   "display_name": "Python 3",
   "language": "python",
   "name": "python3"
  },
  "language_info": {
   "codemirror_mode": {
    "name": "ipython",
    "version": 3
   },
   "file_extension": ".py",
   "mimetype": "text/x-python",
   "name": "python",
   "nbconvert_exporter": "python",
   "pygments_lexer": "ipython3",
   "version": "3.6.5"
  }
 },
 "nbformat": 4,
 "nbformat_minor": 2
}

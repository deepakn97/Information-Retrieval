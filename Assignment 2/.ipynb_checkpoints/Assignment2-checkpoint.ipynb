{
 "cells": [
  {
   "cell_type": "markdown",
   "metadata": {},
   "source": [
    "# Assignment 2 - Term Importance\n",
    "##### Team 8 - Deepak Nathani(ME15BTECH11009), Sahil Yerawar(CS15BTECH11044), Yash Pitroda(ES15BTECH11020)\n",
    "Language used - python3.5"
   ]
  },
  {
   "cell_type": "code",
   "execution_count": 1,
   "metadata": {},
   "outputs": [],
   "source": [
    "import numpy as np\n",
    "import pandas as pd \n",
    "import matplotlib.pyplot as plt \n",
    "import nltk \n",
    "from time import time\n",
    "from collections import Counter\n",
    "from nltk.corpus import stopwords,wordnet\n",
    "from nltk import FreqDist,ngrams,word_tokenize\n",
    "from nltk.stem import PorterStemmer\n",
    "from nltk.stem import WordNetLemmatizer\n"
   ]
  },
  {
   "cell_type": "code",
   "execution_count": 2,
   "metadata": {},
   "outputs": [
    {
     "name": "stdout",
     "output_type": "stream",
     "text": [
      "[nltk_data] Downloading package stopwords to /home/deepak/nltk_data...\n",
      "[nltk_data]   Package stopwords is already up-to-date!\n",
      "[nltk_data] Downloading package punkt to /home/deepak/nltk_data...\n",
      "[nltk_data]   Package punkt is already up-to-date!\n",
      "[nltk_data] Downloading package wordnet to /home/deepak/nltk_data...\n",
      "[nltk_data]   Package wordnet is already up-to-date!\n",
      "[nltk_data] Downloading package averaged_perceptron_tagger to\n",
      "[nltk_data]     /home/deepak/nltk_data...\n",
      "[nltk_data]   Package averaged_perceptron_tagger is already up-to-\n",
      "[nltk_data]       date!\n"
     ]
    },
    {
     "data": {
      "text/plain": [
       "True"
      ]
     },
     "execution_count": 2,
     "metadata": {},
     "output_type": "execute_result"
    }
   ],
   "source": [
    "nltk.download(\"stopwords\")\n",
    "nltk.download(\"punkt\")\n",
    "nltk.download(\"wordnet\")\n",
    "nltk.download(\"averaged_perceptron_tagger\")"
   ]
  },
  {
   "cell_type": "code",
   "execution_count": 3,
   "metadata": {},
   "outputs": [],
   "source": [
    "# give me tokens, I will give non stop(word) tokens\n",
    "def remove_stopwords(data):\n",
    "    stop_words = Counter(stopwords.words('english'))\n",
    "    ans = []\n",
    "    for each in data:\n",
    "        if(each not in stop_words.keys()):\n",
    "            ans.append(each)\n",
    "    return ans"
   ]
  },
  {
   "cell_type": "code",
   "execution_count": 4,
   "metadata": {},
   "outputs": [],
   "source": [
    "# give me tokens, I will give you lemmatized tokens\n",
    "def lemmatizer(tokens):\n",
    "    filtered_document = []\n",
    "    wordnet_pos = ''\n",
    "#     here we have also tried capturing part of speech of lemmatization\n",
    "    pos_tokens = nltk.pos_tag(tokens)\n",
    "    lmtzr = WordNetLemmatizer()\n",
    "    for i in pos_tokens:\n",
    "        if i[1].startswith('J'):\n",
    "            wordnet_pos = wordnet.ADJ\n",
    "        elif i[1].startswith('V'):\n",
    "            wordnet_pos = wordnet.VERB\n",
    "        elif i[1].startswith('N'):\n",
    "            wordnet_pos = wordnet.NOUN\n",
    "        elif i[1].startswith('R'):\n",
    "            wordnet_pos = wordnet.ADV\n",
    "        else:\n",
    "            wordnet_pos = wordnet.ADJ_SAT\n",
    "        filtered_document.append(lmtzr.lemmatize(i[0],pos = wordnet_pos))\n",
    "    return filtered_document\n"
   ]
  },
  {
   "cell_type": "code",
   "execution_count": 5,
   "metadata": {},
   "outputs": [],
   "source": [
    "# return frequency distribution for a given chapter\n",
    "def chapterwise(text):\n",
    "    tokens = word_tokenize(text)\n",
    "    tokens = remove_stopwords(tokens)\n",
    "    tokens = lemmatizer(tokens)\n",
    "        \n",
    "    fDist = FreqDist(tokens)\n",
    "    dictionary_freq = dict(zip(fDist.keys(),fDist.values()))\n",
    "    sorted_dict_freq = sorted(dictionary_freq.items(), key=lambda x: x[1],reverse= True)\n",
    "    \n",
    "    return dict(sorted_dict_freq)"
   ]
  },
  {
   "cell_type": "code",
   "execution_count": 6,
   "metadata": {},
   "outputs": [],
   "source": [
    "# top_k : integer value for printing top k results \n",
    "# num_chap : integer value to analyse data for n chapters\n",
    "# ch : Boolean variable - for printing data chapterwise \n",
    "def book(dataset, top_k = 20, num_chap = 10, ch = False):\n",
    "    data = pd.read_csv(dataset)\n",
    "    \n",
    "    if ch : # for printing data chapterwise \n",
    "        for i in range(num_chap):\n",
    "            text = str(data['Text'][i])\n",
    "        \n",
    "            tokens = word_tokenize(text)\n",
    "            tokens = remove_stopwords(tokens)\n",
    "            tokens = lemmatizer(tokens)\n",
    "\n",
    "            fDist = FreqDist(tokens)\n",
    "            dictionary_freq = dict(zip(fDist.keys(),fDist.values()))\n",
    "            sorted_dict_freq = sorted(dictionary_freq.items(), key=lambda x: x[1],reverse= True)\n",
    "            \n",
    "            print (\"Top \"+str(top_k)+\" Words according to frequency in chapter-\"+str(i+1)+\" : \")\n",
    "            for i in range(top_k): \n",
    "                print (str(i+1)+\". \"+sorted_dict_freq[i][0],\" : \",sorted_dict_freq[i][1])\n",
    "            print (\"\\n\")\n",
    "        \n",
    "    else : # For analyzing the book for different metrics\n",
    "        text = \"\"\n",
    "        for i in range(data.shape[0]):\n",
    "            text += \" \" + str(data['Text'][i])\n",
    "\n",
    "        tokens = word_tokenize(text)\n",
    "        tokens = remove_stopwords(tokens)\n",
    "        tokens = lemmatizer(tokens)\n",
    "\n",
    "        # Frequency\n",
    "        fDist = FreqDist(tokens)\n",
    "        dictionary_freq = dict(zip(fDist.keys(),fDist.values()))\n",
    "        sorted_dict_freq = sorted(dictionary_freq.items(), key=lambda x: x[1],reverse= True)\n",
    "        \n",
    "        print (\"Top \"+str(top_k)+\" Words according to frequency: \")\n",
    "        for i in range(top_k): \n",
    "            print (str(i+1)+\". \"+sorted_dict_freq[i][0],\" : \",sorted_dict_freq[i][1])\n",
    "\n",
    "\n",
    "        # entropy\n",
    "        total = float(len(tokens))\n",
    "        dictionary_entropy = {k: -1 * (float(freq) / total) * np.log(float(freq)/total) for k, freq in dictionary_freq.items()} \n",
    "        sorted_dict_entropy = sorted(dictionary_entropy.items(), key=lambda x: x[1],reverse= True)\n",
    "\n",
    "        print (\"\\n\\nTop \"+str(top_k)+\" Words according to entropy: \")\n",
    "        for i in range(top_k): \n",
    "            print (str(i+1)+\". \"+sorted_dict_entropy[i][0],\" : \",sorted_dict_entropy[i][1])\n",
    "        \n",
    "        #own metric (weighted Frequency)       \n",
    "        global_metric = dict([])\n",
    "        blah = set([])\n",
    "        unique_terms = len(dictionary_freq)\n",
    "        count = 0\n",
    "        for i in range(data.shape[0]):\n",
    "            chapterwise_freq = chapterwise(str(data['Text'][i]))\n",
    "            uniqTerms_chapter = len(chapterwise_freq)\n",
    "            chapter_importance = uniqTerms_chapter/float(unique_terms)\n",
    "            for k,v in chapterwise_freq.items():\n",
    "                if(k in global_metric):\n",
    "                    global_metric[k] += float(v) * chapter_importance\n",
    "                else:\n",
    "                    global_metric[k] = float(v) * chapter_importance\n",
    "        \n",
    "        sorted_dict_metric = sorted(global_metric.items(), key=lambda x: x[1],reverse= True)\n",
    "\n",
    "\n",
    "        print (\"\\n\\nTop \"+str(top_k)+\" Words according to our metric: \")\n",
    "        for i in range(top_k): \n",
    "            print (str(i+1)+\". \"+sorted_dict_metric[i][0],\" : \",sorted_dict_metric[i][1])\n",
    "            \n",
    "        return dict(sorted_dict_freq), dict(sorted_dict_entropy), dict(sorted_dict_metric)\n",
    "        "
   ]
  },
  {
   "cell_type": "markdown",
   "metadata": {},
   "source": [
    "## Printing top-k characters for each metric "
   ]
  },
  {
   "cell_type": "code",
   "execution_count": 7,
   "metadata": {},
   "outputs": [
    {
     "name": "stdout",
     "output_type": "stream",
     "text": [
      "Top 27 Words according to frequency: \n",
      "1. ,  :  15870\n",
      "2. .  :  11137\n",
      "3. “  :  4244\n",
      "4. ”  :  3796\n",
      "5. ’  :  3381\n",
      "6. Harry  :  3100\n",
      "7. ''  :  2494\n",
      "8. I  :  2373\n",
      "9. ``  :  2369\n",
      "10. say  :  2173\n",
      "11. ?  :  2124\n",
      "12. !  :  1540\n",
      "13. Hermione  :  1206\n",
      "14. He  :  1178\n",
      "15. Ron  :  1154\n",
      "16. 's  :  1031\n",
      "17. The  :  935\n",
      "18. look  :  863\n",
      "19. know  :  787\n",
      "20. –  :  759\n",
      "21. could  :  653\n",
      "22. ;  :  630\n",
      "23. think  :  624\n",
      "24. get  :  579\n",
      "25. Dumbledore  :  574\n",
      "26. go  :  570\n",
      "27. wand  :  552\n",
      "\n",
      "\n",
      "Top 27 Words according to entropy: \n",
      "1. ,  :  0.22505019904912982\n",
      "2. .  :  0.1818069632852425\n",
      "3. “  :  0.0940655875405196\n",
      "4. ”  :  0.08669926731543263\n",
      "5. ’  :  0.07959022202582375\n",
      "6. Harry  :  0.07460353929337532\n",
      "7. ''  :  0.06330341210342551\n",
      "8. I  :  0.060946513169844264\n",
      "9. ``  :  0.060867971676398604\n",
      "10. say  :  0.05696794651742506\n",
      "11. ?  :  0.055976579366526266\n",
      "12. !  :  0.0435827547181468\n",
      "13. Hermione  :  0.0359150406315287\n",
      "14. He  :  0.035248694730741055\n",
      "15. Ron  :  0.03467433809785927\n",
      "16. 's  :  0.031681903552112284\n",
      "17. The  :  0.02928504899519816\n",
      "18. look  :  0.027448534809456335\n",
      "19. know  :  0.025470435733241335\n",
      "20. –  :  0.024730678857635097\n",
      "21. could  :  0.02187143008319249\n",
      "22. ;  :  0.02123781244610357\n",
      "23. think  :  0.021071692363275215\n",
      "24. get  :  0.01981441971392692\n",
      "25. Dumbledore  :  0.019673444923254808\n",
      "26. go  :  0.019560475382070123\n",
      "27. wand  :  0.01904999229952437\n",
      "\n",
      "\n",
      "Top 27 Words according to our metric: \n",
      "1. ,  :  1874.0271358543419\n",
      "2. .  :  1313.846025910364\n",
      "3. “  :  513.9571953781513\n",
      "4. ”  :  461.78588935574226\n",
      "5. ’  :  408.6205357142856\n",
      "6. Harry  :  369.0657387955182\n",
      "7. ''  :  290.8306197478991\n",
      "8. I  :  279.52958683473383\n",
      "9. ``  :  276.60670518207274\n",
      "10. say  :  258.80462184873954\n",
      "11. ?  :  253.04280462184875\n",
      "12. !  :  188.6435574229692\n",
      "13. Hermione  :  142.49474789915965\n",
      "14. Ron  :  138.47942927170865\n",
      "15. He  :  136.79122899159663\n",
      "16. 's  :  120.0887605042017\n",
      "17. The  :  109.39128151260505\n",
      "18. look  :  101.34427521008402\n",
      "19. know  :  91.9922093837535\n",
      "20. –  :  90.8468137254902\n",
      "21. could  :  76.19572829131651\n",
      "22. ;  :  74.24588585434174\n",
      "23. think  :  72.74719887955182\n",
      "24. get  :  67.93802521008404\n",
      "25. go  :  66.78028711484595\n",
      "26. Dumbledore  :  66.6471463585434\n",
      "27. wand  :  65.58814775910363\n"
     ]
    }
   ],
   "source": [
    "freq,entropy,metric = book('chapters.csv',top_k = 27, num_chap= 10)"
   ]
  },
  {
   "cell_type": "markdown",
   "metadata": {},
   "source": [
    "# Our Metric (Weighted Frequency) "
   ]
  },
  {
   "cell_type": "markdown",
   "metadata": {},
   "source": [
    "We define word importance as weighted sum of Frequency. Weights are called **Chapter importance**. \n",
    "\n",
    "\\begin{equation*}\n",
    "C_i = \\frac{M_i}{\\sum_{k=1}^n M_i}\n",
    "\\end{equation*}\n",
    "\n",
    "\\begin{equation*}\n",
    "W_w = \\sum_{k=1}^nN_i^w * C_i\n",
    "\\end{equation*}\n",
    "\n",
    "Here,\n",
    "\n",
    "**C<sub>i</sub>** = Chapter importance of i<sup>th</sup> chapter,\n",
    "\n",
    "**M<sub>i</sub>** = number of unique terms in i<sup>th</sup> chapter,\n",
    "\n",
    "**N<sub>i</sub>** = Count of word **w** in i<sup>th</sup> chapter,\n",
    "\n",
    "**W<sub>w</sub>** = final word importance for word w\n",
    "\n",
    "This metric will capture almost same intuition as the Frequency metric but in some cases it is expected to work better. For eg, say a chapter contains only word 'blah' 500 times, Frequency metric gives this word a lot of importance. But with our proposed metric, this frequency gets multiplied by chapter importance, which in this case should be very low."
   ]
  },
  {
   "cell_type": "markdown",
   "metadata": {},
   "source": [
    "## Plotting Rank vs Metric "
   ]
  },
  {
   "cell_type": "code",
   "execution_count": 8,
   "metadata": {},
   "outputs": [],
   "source": [
    "def plot(data, dataname):\n",
    "    x = np.arange(0,400)\n",
    "    y = [data[k] for i,k in enumerate(data.keys()) if i<400]\n",
    "    plt.plot(x,y,'r')\n",
    "    plt.plot(x,y,'b.')\n",
    "    plt.xlabel(\"Rank\")\n",
    "    plt.ylabel(dataname)\n",
    "    plt.show() "
   ]
  },
  {
   "cell_type": "code",
   "execution_count": 9,
   "metadata": {},
   "outputs": [
    {
     "data": {
      "image/png": "[encoded data removed]",
      "text/plain": [
       "<Figure size 432x288 with 1 Axes>"
      ]
     },
     "metadata": {
      "needs_background": "light"
     },
     "output_type": "display_data"
    },
    {
     "data": {
      "image/png": "[encoded data removed]",
      "text/plain": [
       "<Figure size 432x288 with 1 Axes>"
      ]
     },
     "metadata": {
      "needs_background": "light"
     },
     "output_type": "display_data"
    },
    {
     "data": {
      "image/png": "[encoded data removed]",
      "text/plain": [
       "<Figure size 432x288 with 1 Axes>"
      ]
     },
     "metadata": {
      "needs_background": "light"
     },
     "output_type": "display_data"
    }
   ],
   "source": [
    "plot(freq,\"Frequency\")\n",
    "plot(entropy, \"Entropy\")\n",
    "plot(metric, \"Weighted Frequency\")"
   ]
  },
  {
   "cell_type": "markdown",
   "metadata": {},
   "source": [
    "## Observation : \n",
    "1. As can be seen from the above text data and the plots all the three metrics result in almost similar top-k words and plots tend to follow similar trend.\n",
    "2. The change is only observed for term #25 and #26 for our metric.  \n"
   ]
  },
  {
   "cell_type": "markdown",
   "metadata": {},
   "source": [
    "## Frequency vs Entropy "
   ]
  },
  {
   "cell_type": "code",
   "execution_count": 10,
   "metadata": {},
   "outputs": [
    {
     "data": {
      "image/png": "[encoded data removed]",
      "text/plain": [
       "<Figure size 432x288 with 1 Axes>"
      ]
     },
     "metadata": {
      "needs_background": "light"
     },
     "output_type": "display_data"
    }
   ],
   "source": [
    "tokens_list = list(freq.keys())\n",
    "plt.scatter([freq[k] for k in tokens_list], [entropy[k] for k in tokens_list])\n",
    "plt.title(\"Frequency vs Entropy\")\n",
    "plt.xlabel(\"Frequency\")\n",
    "plt.ylabel(\"Entropy\")\n",
    "plt.show()"
   ]
  },
  {
   "cell_type": "markdown",
   "metadata": {},
   "source": [
    "## Observation : \n",
    "The graph follows the equation of f(x) = Log(x) as expected from the equations \n",
    "\n",
    "\\begin{equation*}\n",
    "p_w = \\frac{f_w}{N}\n",
    "\\end{equation*}  \n",
    "where N is total number of tokens.\n",
    "\n",
    "Now we know that \n",
    "\\begin{equation*}\n",
    "E = -plog(p) = -\\frac{f_w}{N}\\left(log(f_w) - log(N) \\right)\n",
    "\\end{equation*}  \n",
    "\n",
    "It is evident from this equation that the graph between Frequency and Entropy will follow log trend."
   ]
  },
  {
   "cell_type": "markdown",
   "metadata": {},
   "source": [
    "## Top k terms, chapter wise "
   ]
  },
  {
   "cell_type": "code",
   "execution_count": 11,
   "metadata": {},
   "outputs": [
    {
     "name": "stdout",
     "output_type": "stream",
     "text": [
      "Top 20 Words according to frequency in chapter-1 : \n",
      "1. ,  :  266\n",
      "2. .  :  159\n",
      "3. “  :  98\n",
      "4. ”  :  86\n",
      "5. Voldemort  :  41\n",
      "6. I  :  33\n",
      "7. The  :  29\n",
      "8. say  :  29\n",
      "9. ’  :  26\n",
      "10. ?  :  24\n",
      "11. Snape  :  23\n",
      "12. table  :  20\n",
      "13. Yaxley  :  19\n",
      "14. eye  :  19\n",
      "15. Lord  :  18\n",
      "16. …  :  18\n",
      "17. look  :  17\n",
      "18. ;  :  14\n",
      "19. wand  :  13\n",
      "20. Lucius  :  13\n",
      "\n",
      "\n",
      "Top 20 Words according to frequency in chapter-2 : \n",
      "1. ,  :  290\n",
      "2. .  :  169\n",
      "3. 's  :  44\n",
      "4. I  :  43\n",
      "5. Dumbledore  :  40\n",
      "6. Harry  :  28\n",
      "7. ''  :  25\n",
      "8. ``  :  22\n",
      "9. Albus  :  22\n",
      "10. Skeeter  :  22\n",
      "11. He  :  20\n",
      "12. –  :  18\n",
      "13. say  :  15\n",
      "14. year  :  14\n",
      "15. ?  :  13\n",
      "16. leave  :  12\n",
      "17. would  :  12\n",
      "18. never  :  11\n",
      "19. ;  :  11\n",
      "20. :  :  11\n",
      "\n",
      "\n",
      "Top 20 Words according to frequency in chapter-3 : \n",
      "1. ,  :  214\n",
      "2. .  :  174\n",
      "3. ``  :  114\n",
      "4. ''  :  111\n",
      "5. Harry  :  77\n",
      "6. say  :  46\n",
      "7. Vernon  :  41\n",
      "8. ?  :  39\n",
      "9. I  :  33\n",
      "10. Dudley  :  32\n",
      "11. Uncle  :  30\n",
      "12. 's  :  28\n",
      "13. n't  :  25\n",
      "14. –  :  25\n",
      "15. !  :  24\n",
      "16. The  :  14\n",
      "17. “  :  14\n",
      "18. ”  :  14\n",
      "19. Dedalus  :  14\n",
      "20. He  :  13\n",
      "\n",
      "\n",
      "Top 20 Words according to frequency in chapter-4 : \n",
      "1. ,  :  449\n",
      "2. .  :  241\n",
      "3. ’  :  146\n",
      "4. “  :  118\n",
      "5. Harry  :  110\n",
      "6. ”  :  91\n",
      "7. ``  :  53\n",
      "8. ''  :  53\n",
      "9. say  :  51\n",
      "10. –  :  51\n",
      "11. I  :  46\n",
      "12. !  :  45\n",
      "13. ;  :  42\n",
      "14. Hagrid  :  41\n",
      "15. 's  :  31\n",
      "16. look  :  29\n",
      "17. Death  :  29\n",
      "18. back  :  28\n",
      "19. :  :  25\n",
      "20. get  :  25\n",
      "\n",
      "\n",
      "Top 20 Words according to frequency in chapter-5 : \n",
      "1. ,  :  501\n",
      "2. .  :  456\n",
      "3. ''  :  255\n",
      "4. ``  :  250\n",
      "5. Harry  :  124\n",
      "6. say  :  93\n",
      "7. 's  :  89\n",
      "8. ?  :  89\n",
      "9. I  :  85\n",
      "10. –  :  53\n",
      "11. !  :  51\n",
      "12. He  :  45\n",
      "13. Hagrid  :  45\n",
      "14. Lupin  :  44\n",
      "15. back  :  39\n",
      "16. n't  :  39\n",
      "17. know  :  35\n",
      "18. Weasley  :  31\n",
      "19. The  :  26\n",
      "20. Voldemort  :  26\n",
      "\n",
      "\n",
      "Top 20 Words according to frequency in chapter-6 : \n",
      "1. ,  :  489\n",
      "2. .  :  384\n",
      "3. ’  :  278\n",
      "4. “  :  266\n",
      "5. ”  :  238\n",
      "6. I  :  110\n",
      "7. say  :  106\n",
      "8. Harry  :  95\n",
      "9. Ron  :  88\n",
      "10. ?  :  64\n",
      "11. Hermione  :  62\n",
      "12. –  :  44\n",
      "13. !  :  41\n",
      "14. Weasley  :  37\n",
      "15. go  :  35\n",
      "16. look  :  33\n",
      "17. get  :  32\n",
      "18. Mrs.  :  27\n",
      "19. ask  :  25\n",
      "20. The  :  24\n",
      "\n",
      "\n",
      "Top 20 Words according to frequency in chapter-7 : \n",
      "1. ,  :  570\n",
      "2. .  :  450\n",
      "3. ''  :  291\n",
      "4. ``  :  285\n",
      "5. Harry  :  126\n",
      "6. say  :  114\n",
      "7. I  :  109\n",
      "8. ?  :  104\n",
      "9. 's  :  90\n",
      "10. Ron  :  81\n",
      "11. Hermione  :  69\n",
      "12. Scrimgeour  :  54\n",
      "13. look  :  49\n",
      "14. !  :  44\n",
      "15. n't  :  43\n",
      "16. He  :  37\n",
      "17. think  :  37\n",
      "18. --  :  37\n",
      "19. Weasley  :  34\n",
      "20. Dumbledore  :  31\n",
      "\n",
      "\n",
      "Top 20 Words according to frequency in chapter-8 : \n",
      "1. ,  :  470\n",
      "2. .  :  263\n",
      "3. “  :  230\n",
      "4. ”  :  201\n",
      "5. ’  :  132\n",
      "6. Harry  :  88\n",
      "7. say  :  88\n",
      "8. I  :  72\n",
      "9. ?  :  69\n",
      "10. !  :  48\n",
      "11. –  :  37\n",
      "12. look  :  36\n",
      "13. Doge  :  36\n",
      "14. Muriel  :  33\n",
      "15. Ron  :  29\n",
      "16. Krum  :  29\n",
      "17. know  :  28\n",
      "18. think  :  23\n",
      "19. The  :  18\n",
      "20. Fred  :  17\n",
      "\n",
      "\n",
      "Top 20 Words according to frequency in chapter-9 : \n",
      "1. ,  :  389\n",
      "2. .  :  245\n",
      "3. “  :  174\n",
      "4. ’  :  158\n",
      "5. ”  :  146\n",
      "6. Harry  :  81\n",
      "7. I  :  62\n",
      "8. Ron  :  62\n",
      "9. Hermione  :  60\n",
      "10. say  :  57\n",
      "11. ?  :  52\n",
      "12. !  :  37\n",
      "13. –  :  27\n",
      "14. ;  :  19\n",
      "15. The  :  18\n",
      "16. look  :  17\n",
      "17. :  :  17\n",
      "18. get  :  17\n",
      "19. could  :  16\n",
      "20. He  :  16\n",
      "\n",
      "\n",
      "Top 20 Words according to frequency in chapter-10 : \n",
      "1. ,  :  453\n",
      "2. .  :  299\n",
      "3. “  :  189\n",
      "4. ’  :  175\n",
      "5. ”  :  148\n",
      "6. Harry  :  109\n",
      "7. Kreacher  :  94\n",
      "8. ?  :  81\n",
      "9. say  :  57\n",
      "10. I  :  52\n",
      "11. …  :  52\n",
      "12. He  :  47\n",
      "13. Regulus  :  40\n",
      "14. Hermione  :  38\n",
      "15. !  :  35\n",
      "16. –  :  31\n",
      "17. Sirius  :  31\n",
      "18. The  :  28\n",
      "19. Dumbledore  :  28\n",
      "20. know  :  28\n",
      "\n",
      "\n"
     ]
    }
   ],
   "source": [
    "book('chapters.csv',top_k = 20, num_chap=10, ch = True)"
   ]
  }
 ],
 "metadata": {
  "gist": {
   "data": {
    "description": "Assignment 2/Assignment2.ipynb",
    "public": true
   },
   "id": ""
  },
  "kernelspec": {
   "display_name": "Python 2",
   "language": "python",
   "name": "python2"
  },
  "language_info": {
   "codemirror_mode": {
    "name": "ipython",
    "version": 3
   },
   "file_extension": ".py",
   "mimetype": "text/x-python",
   "name": "python",
   "nbconvert_exporter": "python",
   "pygments_lexer": "ipython3",
   "version": "3.6.6"
  },
  "latex_envs": {
   "LaTeX_envs_menu_present": true,
   "autoclose": false,
   "autocomplete": true,
   "bibliofile": "biblio.bib",
   "cite_by": "apalike",
   "current_citInitial": 1,
   "eqLabelWithNumbers": true,
   "eqNumInitial": 1,
   "hotkeys": {
    "equation": "Ctrl-E",
    "itemize": "Ctrl-I"
   },
   "labels_anchors": false,
   "latex_user_defs": false,
   "report_style_numbering": false,
   "user_envs_cfg": false
  }
 },
 "nbformat": 4,
 "nbformat_minor": 2
}

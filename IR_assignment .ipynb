{
 "cells": [
  {
   "cell_type": "code",
   "execution_count": 82,
   "metadata": {},
   "outputs": [],
   "source": [
    "import numpy as np\n",
    "import pandas as pd \n",
    "import matplotlib.pyplot as plt \n",
    "import nltk \n",
    "from time import time\n",
    "from collections import Counter\n",
    "from nltk.corpus import stopwords\n",
    "from nltk import FreqDist,ngrams,word_tokenize\n",
    "from nltk.stem import PorterStemmer\n",
    "from nltk.stem.wordnet import WordNetLemmatizer"
   ]
  },
  {
   "cell_type": "code",
   "execution_count": 85,
   "metadata": {},
   "outputs": [],
   "source": [
    "def remove_stopwords(data):\n",
    "    stop_words = Counter(stopwords.words('english'))\n",
    "    ans = []\n",
    "    for each in data:\n",
    "        if(each not in stop_words.keys()):\n",
    "            ans.append(each)\n",
    "    return ans"
   ]
  },
  {
   "cell_type": "code",
   "execution_count": 86,
   "metadata": {},
   "outputs": [],
   "source": [
    "def lemmatizer(data):\n",
    "    lmtzr = WordNetLemmatizer()\n",
    "    ans = []\n",
    "    for each in data:\n",
    "        ans.append(lmtzr.lemmatize(each))\n",
    "    return ans"
   ]
  },
  {
   "cell_type": "code",
   "execution_count": 87,
   "metadata": {},
   "outputs": [],
   "source": [
    "def stemmer(data):\n",
    "    ps = PorterStemmer()\n",
    "    ans = []\n",
    "    for each in data:\n",
    "        ans.append(ps.stem(each))\n",
    "    return ans"
   ]
  },
  {
   "cell_type": "code",
   "execution_count": 110,
   "metadata": {},
   "outputs": [],
   "source": [
    "def A1_task1(dataset, sw = 0, st = 0, lem= 0):\n",
    "    data = pd.read_csv(dataset)\n",
    "    print data.shape\n",
    "    \n",
    "    # concatenation\n",
    "    text = \"\"\n",
    "    for i in range(data.shape[0]):\n",
    "        text += data['Text'][i]\n",
    "    text = text.decode('utf-8')\n",
    "    \n",
    "    tokens = word_tokenize(text[0:2000])\n",
    "    if(sw):\n",
    "        tokens = remove_stopwords(tokens)\n",
    "    if(lem):\n",
    "        tokens = lemmatizer(tokens)\n",
    "    if(st):\n",
    "        tokens = stemmer(tokens)\n",
    "        \n",
    "    fDist = FreqDist(tokens)\n",
    "    dictionary = dict(zip(fDist.keys(),fDist.values()))\n",
    "    sorted_dict = sorted(dictionary.items(), key=lambda x: x[1],reverse= True)\n",
    "   \n",
    "    x = np.arange(0,len(sorted_dict))\n",
    "    y = [sorted_dict[i][1] for i in range(len(sorted_dict))]\n",
    "    plt.plot(x,y,'r')\n",
    "    plt.plot(x,y,'b.')\n",
    "    plt.show()                  \n",
    "    \n",
    "    print \"TOP 20 Words : \"\n",
    "    for i in range(20): \n",
    "        print str(i+1)+\". \"+sorted_dict[i][0],\" : \",sorted_dict[i][1]"
   ]
  },
  {
   "cell_type": "code",
   "execution_count": 111,
   "metadata": {},
   "outputs": [
    {
     "name": "stdout",
     "output_type": "stream",
     "text": [
      "(32577, 2)\n"
     ]
    },
    {
     "data": {
      "image/png": "[encoded data removed]",
      "text/plain": [
       "<Figure size 432x288 with 1 Axes>"
      ]
     },
     "metadata": {},
     "output_type": "display_data"
    },
    {
     "name": "stdout",
     "output_type": "stream",
     "text": [
      "TOP 20 Words : \n",
      "1. ,  :  14\n",
      "2. ?  :  11\n",
      "3. secur  :  10\n",
      "4. cours  :  5\n",
      "5. data  :  5\n",
      "6. input  :  4\n",
      "7. .  :  4\n",
      "8. (  :  3\n",
      "9. applic  :  3\n",
      "10. could  :  3\n",
      "11. softwar  :  3\n",
      "12. question  :  3\n",
      "13. offer  :  3\n",
      "14. n't  :  3\n",
      "15. )  :  3\n",
      "16. rail  :  3\n",
      "17. code  :  2\n",
      "18. web  :  2\n",
      "19. somebodi  :  2\n",
      "20. know  :  2\n",
      "None\n",
      "1.1537539959\n"
     ]
    }
   ],
   "source": [
    "start = time()\n",
    "s = A1_task1('questions-data.csv', 1, 1, 1)\n",
    "print(s)\n",
    "end = time()\n",
    "print end-start"
   ]
  },
  {
   "cell_type": "code",
   "execution_count": 112,
   "metadata": {},
   "outputs": [
    {
     "name": "stdout",
     "output_type": "stream",
     "text": [
      "(32577, 2)\n"
     ]
    },
    {
     "data": {
      "image/png": "[encoded data removed]",
      "text/plain": [
       "<Figure size 432x288 with 1 Axes>"
      ]
     },
     "metadata": {},
     "output_type": "display_data"
    },
    {
     "name": "stdout",
     "output_type": "stream",
     "text": [
      "TOP 20 Words : \n",
      "1. ,  :  14\n",
      "2. ?  :  11\n",
      "3. security  :  6\n",
      "4. data  :  5\n",
      "5. secure  :  4\n",
      "6. .  :  4\n",
      "7. (  :  3\n",
      "8. input  :  3\n",
      "9. courses  :  3\n",
      "10. )  :  3\n",
      "11. could  :  3\n",
      "12. software  :  3\n",
      "13. rails  :  3\n",
      "14. question  :  3\n",
      "15. n't  :  3\n",
      "16. application  :  3\n",
      "17. code  :  2\n",
      "18. course  :  2\n",
      "19. issues  :  2\n",
      "20. web  :  2\n",
      "None\n",
      "1.2501540184\n"
     ]
    }
   ],
   "source": [
    "start = time()\n",
    "s = A1_task1('questions-data.csv', 1, 0, 0)\n",
    "print(s)\n",
    "end = time()\n",
    "print end-start"
   ]
  },
  {
   "cell_type": "code",
   "execution_count": 113,
   "metadata": {},
   "outputs": [
    {
     "name": "stdout",
     "output_type": "stream",
     "text": [
      "(32577, 2)\n"
     ]
    },
    {
     "data": {
      "image/png": "[encoded data removed]",
      "text/plain": [
       "<Figure size 432x288 with 1 Axes>"
      ]
     },
     "metadata": {},
     "output_type": "display_data"
    },
    {
     "name": "stdout",
     "output_type": "stream",
     "text": [
      "TOP 20 Words : \n",
      "1. ,  :  14\n",
      "2. to  :  12\n",
      "3. the  :  12\n",
      "4. ?  :  11\n",
      "5. i  :  11\n",
      "6. be  :  7\n",
      "7. a  :  7\n",
      "8. security  :  6\n",
      "9. with  :  6\n",
      "10. and  :  6\n",
      "11. is  :  6\n",
      "12. of  :  5\n",
      "13. data  :  5\n",
      "14. what  :  4\n",
      "15. or  :  4\n",
      "16. secure  :  4\n",
      "17. .  :  4\n",
      "18. that  :  4\n",
      "19. this  :  4\n",
      "20. it  :  4\n",
      "1.0460729599\n"
     ]
    }
   ],
   "source": [
    "start = time()\n",
    "A1_task1('questions-data.csv', 0)\n",
    "end = time()\n",
    "print end-start"
   ]
  },
  {
   "cell_type": "code",
   "execution_count": 114,
   "metadata": {},
   "outputs": [],
   "source": [
    "def A1_task2(dataset):\n",
    "    data = pd.read_csv(dataset)\n",
    "    print data.shape\n",
    "    dictionary = set()\n",
    "    num_tokens = 0 \n",
    "    T = []\n",
    "    M = []\n",
    "    for i in range(10):\n",
    "        text = data['Text'][i]\n",
    "        text = text.decode('utf-8')\n",
    "        tokens = word_tokenize(text)\n",
    "        for t in tokens:\n",
    "            dictionary.add(t) \n",
    "        num_tokens += len(tokens)\n",
    "        T.append(num_tokens)\n",
    "        M.append(len(dictionary))\n",
    "    return T,M\n",
    "        "
   ]
  },
  {
   "cell_type": "code",
   "execution_count": 115,
   "metadata": {},
   "outputs": [
    {
     "name": "stdout",
     "output_type": "stream",
     "text": [
      "(32577, 2)\n"
     ]
    }
   ],
   "source": [
    "Terms,Dictionary = A1_task2('questions-data.csv')\n"
   ]
  },
  {
   "cell_type": "code",
   "execution_count": 117,
   "metadata": {},
   "outputs": [
    {
     "data": {
      "image/png": "[encoded data removed]",
      "text/plain": [
       "<Figure size 432x288 with 1 Axes>"
      ]
     },
     "metadata": {},
     "output_type": "display_data"
    }
   ],
   "source": [
    "x = np.arange(0,len(Terms))\n",
    "plt.plot(x,Terms,'r')\n",
    "plt.plot(x,Dictionary,'b')\n",
    "plt.show()\n"
   ]
  },
  {
   "cell_type": "code",
   "execution_count": null,
   "metadata": {},
   "outputs": [],
   "source": []
  }
 ],
 "metadata": {
  "kernelspec": {
   "display_name": "Python 2",
   "language": "python",
   "name": "python2"
  },
  "language_info": {
   "codemirror_mode": {
    "name": "ipython",
    "version": 2
   },
   "file_extension": ".py",
   "mimetype": "text/x-python",
   "name": "python",
   "nbconvert_exporter": "python",
   "pygments_lexer": "ipython2",
   "version": "2.7.12"
  }
 },
 "nbformat": 4,
 "nbformat_minor": 2
}

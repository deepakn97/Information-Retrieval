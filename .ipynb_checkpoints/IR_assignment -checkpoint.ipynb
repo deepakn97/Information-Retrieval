{
 "cells": [
  {
   "cell_type": "code",
   "execution_count": 82,
   "metadata": {},
   "outputs": [],
   "source": [
    "import numpy as np\n",
    "import pandas as pd \n",
    "import matplotlib.pyplot as plt \n",
    "import nltk \n",
    "from time import time\n",
    "from collections import Counter\n",
    "from nltk.corpus import stopwords\n",
    "from nltk import FreqDist,ngrams,word_tokenize\n",
    "from nltk.stem import PorterStemmer\n",
    "from nltk.stem.wordnet import WordNetLemmatizer"
   ]
  },
  {
   "cell_type": "code",
   "execution_count": 85,
   "metadata": {},
   "outputs": [],
   "source": [
    "def remove_stopwords(data):\n",
    "#     print data\n",
    "    stop_words = Counter(stopwords.words('english'))\n",
    "    ans = []\n",
    "    for each in data:\n",
    "#         print each\n",
    "        if(each not in stop_words.keys()):\n",
    "            ans.append(each)\n",
    "    return ans"
   ]
  },
  {
   "cell_type": "code",
   "execution_count": 86,
   "metadata": {},
   "outputs": [],
   "source": [
    "def lemmatizer(data):\n",
    "    lmtzr = WordNetLemmatizer()\n",
    "    ans = []\n",
    "    for each in data:\n",
    "        ans.append(lmtzr.lemmatize(each))\n",
    "    return ans"
   ]
  },
  {
   "cell_type": "code",
   "execution_count": 87,
   "metadata": {},
   "outputs": [],
   "source": [
    "def stemmer(data):\n",
    "    ps = PorterStemmer()\n",
    "    ans = []\n",
    "    for each in data:\n",
    "        ans.append(ps.stem(each))\n",
    "    return ans"
   ]
  },
  {
   "cell_type": "code",
   "execution_count": 88,
   "metadata": {},
   "outputs": [],
   "source": [
    "def A1_task1_a(dataset, sw, st, lem):\n",
    "    data = pd.read_csv(dataset)\n",
    "    print data.shape\n",
    "    \n",
    "    # concatenation\n",
    "    text = \"\"\n",
    "    for i in range(data.shape[0]):\n",
    "        text += data['Text'][i]\n",
    "    # print len(text)\n",
    "    text = text.decode('utf-8')\n",
    "    \n",
    "#     tech = 1 for removing stopwords\n",
    "#     tech = 2 for stemming\n",
    "#     tech = 3 for lemmatization\n",
    "    \n",
    "    \n",
    "    tokens = word_tokenize(text[0:2000])\n",
    "#     print tokens[0:10]\n",
    "    \n",
    "    if(sw):\n",
    "        tokens = remove_stopwords(tokens)\n",
    "    if(lem):\n",
    "        tokens = lemmatizer(tokens)\n",
    "    if(st):\n",
    "        tokens = stemmer(tokens)\n",
    "    fDist = FreqDist(tokens)\n",
    "    dictionary = dict(zip(fDist.keys(),fDist.values()))\n",
    "    sorted_dict = sorted(dictionary.items(), key=lambda x: x[1],reverse= True)\n",
    "    x = np.arange(0,len(sorted_dict))\n",
    "    y = [sorted_dict[i][1] for i in range(len(sorted_dict))]\n",
    "    plt.plot(x,y,'r')\n",
    "    plt.plot(x,y,'b.')\n",
    "    plt.show()                  \n",
    "    \n",
    "    print \"TOP 20 Words : \"\n",
    "    for i in range(20): \n",
    "        print str(i+1)+\". \"+sorted_dict[i][0],\" : \",sorted_dict[i][1]"
   ]
  },
  {
   "cell_type": "code",
   "execution_count": 90,
   "metadata": {},
   "outputs": [
    {
     "name": "stdout",
     "output_type": "stream",
     "text": [
      "(32577, 2)\n"
     ]
    },
    {
     "data": {
      "image/png": "[encoded data removed]",
      "text/plain": [
       "<Figure size 432x288 with 1 Axes>"
      ]
     },
     "metadata": {},
     "output_type": "display_data"
    },
    {
     "name": "stdout",
     "output_type": "stream",
     "text": [
      "TOP 20 Words : \n",
      "1. ,  :  14\n",
      "2. ?  :  11\n",
      "3. secur  :  10\n",
      "4. cours  :  5\n",
      "5. data  :  5\n",
      "6. input  :  4\n",
      "7. .  :  4\n",
      "8. (  :  3\n",
      "9. applic  :  3\n",
      "10. could  :  3\n",
      "11. softwar  :  3\n",
      "12. question  :  3\n",
      "13. offer  :  3\n",
      "14. n't  :  3\n",
      "15. )  :  3\n",
      "16. rail  :  3\n",
      "17. code  :  2\n",
      "18. web  :  2\n",
      "19. somebodi  :  2\n",
      "20. know  :  2\n",
      "None\n",
      "1.10583114624\n"
     ]
    }
   ],
   "source": [
    "start = time()\n",
    "s = A1_task1_a('questions-data.csv', 1, 1, 1)\n",
    "print(s)\n",
    "end = time()\n",
    "print end-start"
   ]
  },
  {
   "cell_type": "code",
   "execution_count": null,
   "metadata": {},
   "outputs": [],
   "source": [
    "start = time()\n",
    "s = A1_task1_a('questions-data.csv', 1, 0, 0)\n",
    "print(s)\n",
    "end = time()\n",
    "print end-start"
   ]
  },
  {
   "cell_type": "code",
   "execution_count": 37,
   "metadata": {},
   "outputs": [
    {
     "name": "stdout",
     "output_type": "stream",
     "text": [
      "(32577, 2)\n"
     ]
    },
    {
     "data": {
      "image/png": "[encoded data removed]",
      "text/plain": [
       "<Figure size 432x288 with 1 Axes>"
      ]
     },
     "metadata": {},
     "output_type": "display_data"
    },
    {
     "name": "stdout",
     "output_type": "stream",
     "text": [
      "TOP 20 Words : \n",
      "1. the  :  205961\n",
      "2. ,  :  162423\n",
      "3. to  :  149171\n",
      "4. a  :  118288\n",
      "5. i  :  111537\n",
      "6. .  :  94667\n",
      "7. is  :  88799\n",
      "8. ?  :  84690\n",
      "9. and  :  83215\n",
      "10. )  :  69432\n",
      "11. of  :  68121\n",
      "12. (  :  67465\n",
      "13. that  :  61290\n",
      "14. :  :  60627\n",
      "15. it  :  57113\n",
      "16. in  :  56031\n",
      "17. for  :  44410\n",
      "18. this  :  43486\n",
      "19. be  :  37528\n",
      "20. on  :  36206\n",
      "81.5028560162\n"
     ]
    }
   ],
   "source": [
    "start = time()\n",
    "A1_task1_a('questions-data.csv', 0)\n",
    "end = time()\n",
    "print end-start"
   ]
  },
  {
   "cell_type": "code",
   "execution_count": null,
   "metadata": {},
   "outputs": [],
   "source": []
  }
 ],
 "metadata": {
  "kernelspec": {
   "display_name": "Python 2",
   "language": "python",
   "name": "python2"
  },
  "language_info": {
   "codemirror_mode": {
    "name": "ipython",
    "version": 2
   },
   "file_extension": ".py",
   "mimetype": "text/x-python",
   "name": "python",
   "nbconvert_exporter": "python",
   "pygments_lexer": "ipython2",
   "version": "2.7.12"
  }
 },
 "nbformat": 4,
 "nbformat_minor": 2
}

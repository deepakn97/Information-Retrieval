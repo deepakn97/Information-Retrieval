{
 "cells": [
  {
   "cell_type": "code",
   "execution_count": 2,
   "metadata": {},
   "outputs": [],
   "source": [
    "import numpy as np\n",
    "import pandas as pd \n",
    "import matplotlib.pyplot as plt \n",
    "import nltk \n",
    "from time import time\n",
    "from collections import Counter\n",
    "from nltk.corpus import stopwords\n",
    "from nltk import FreqDist,ngrams,word_tokenize\n",
    "from nltk.stem import PorterStemmer\n",
    "from nltk.stem.wordnet import WordNetLemmatizer"
   ]
  },
  {
   "cell_type": "code",
   "execution_count": 3,
   "metadata": {},
   "outputs": [],
   "source": [
    "def remove_stopwords(data):\n",
    "    stop_words = Counter(stopwords.words('english'))\n",
    "    ans = []\n",
    "    for each in data:\n",
    "        if(each not in stop_words.keys()):\n",
    "            ans.append(each)\n",
    "    return ans"
   ]
  },
  {
   "cell_type": "code",
   "execution_count": 4,
   "metadata": {},
   "outputs": [],
   "source": [
    "def lemmatizer(data):\n",
    "    lmtzr = WordNetLemmatizer()\n",
    "    ans = []\n",
    "    for each in data:\n",
    "        ans.append(lmtzr.lemmatize(each))\n",
    "    return ans"
   ]
  },
  {
   "cell_type": "code",
   "execution_count": 5,
   "metadata": {},
   "outputs": [],
   "source": [
    "def stemmer(data):\n",
    "    ps = PorterStemmer()\n",
    "    ans = []\n",
    "    for each in data:\n",
    "        ans.append(ps.stem(each))\n",
    "    return ans"
   ]
  },
  {
   "cell_type": "code",
   "execution_count": null,
   "metadata": {},
   "outputs": [],
   "source": [
    "def A1_task1(dataset, sw = 0, st = 0, lem= 0):\n",
    "    data = pd.read_csv(dataset)\n",
    "    # print (data.shape)\n",
    "    \n",
    "    # concatenation\n",
    "    text = \"\"\n",
    "    for i in range(data.shape[0]):\n",
    "        text += data['Text'][i]\n",
    "#     text = text.decode('utf-8')\n",
    "    \n",
    "    tokens = word_tokenize(text)\n",
    "    if(sw):\n",
    "        tokens = remove_stopwords(tokens)\n",
    "    if(lem):\n",
    "        tokens = lemmatizer(tokens)\n",
    "    if(st):\n",
    "        tokens = stemmer(tokens)\n",
    "        \n",
    "    fDist = FreqDist(tokens)\n",
    "    dictionary = dict(zip(fDist.keys(),fDist.values()))\n",
    "    sorted_dict = sorted(dictionary.items(), key=lambda x: x[1],reverse= True)\n",
    "   \n",
    "    x = np.arange(0,400)\n",
    "    y = [sorted_dict[i][1] for i in range(400)]\n",
    "    plt.plot(x,y,'r')\n",
    "    plt.plot(x,y,'b.')\n",
    "    plt.xlabel(\"Rank\")\n",
    "    plt.ylabel(\"Frequency\")\n",
    "    plt.show()                  \n",
    "     \n",
    "    print (\"TOP 20 Words : \")\n",
    "    for i in range(20): \n",
    "        print (str(i+1)+\". \"+sorted_dict[i][0],\" : \",sorted_dict[i][1])"
   ]
  },
  {
   "cell_type": "code",
   "execution_count": null,
   "metadata": {},
   "outputs": [
    {
     "name": "stdout",
     "output_type": "stream",
     "text": [
      "(32577, 2)\n"
     ]
    }
   ],
   "source": [
    "A1_task1('questions-data.csv', 0, 0, 0)"
   ]
  },
  {
   "cell_type": "code",
   "execution_count": null,
   "metadata": {},
   "outputs": [],
   "source": [
    "A1_task1('questions-data.csv', 1, 0, 0)"
   ]
  },
  {
   "cell_type": "code",
   "execution_count": null,
   "metadata": {},
   "outputs": [],
   "source": []
  },
  {
   "cell_type": "code",
   "execution_count": 12,
   "metadata": {},
   "outputs": [],
   "source": [
    "def A1_task2(dataset):\n",
    "    data = pd.read_csv(dataset)\n",
    "    print data.shape\n",
    "    dictionary = set()\n",
    "    num_tokens = 0 \n",
    "    T = []\n",
    "    M = []\n",
    "    for i in range(data.shape[0]):\n",
    "        text = data['Text'][i]\n",
    "        text = text.decode('utf-8')\n",
    "        tokens = word_tokenize(text)\n",
    "        for t in tokens:\n",
    "            dictionary.add(t) \n",
    "        num_tokens += len(tokens)\n",
    "        T.append(num_tokens)\n",
    "        M.append(len(dictionary))\n",
    "    return T,M\n",
    "        "
   ]
  },
  {
   "cell_type": "code",
   "execution_count": 13,
   "metadata": {},
   "outputs": [
    {
     "name": "stdout",
     "output_type": "stream",
     "text": [
      "(32577, 2)\n"
     ]
    }
   ],
   "source": [
    "Terms,Dictionary = A1_task2('questions-data.csv')\n"
   ]
  },
  {
   "cell_type": "code",
   "execution_count": 15,
   "metadata": {},
   "outputs": [
    {
     "data": {
      "image/png": "[encoded data removed]",
      "text/plain": [
       "<Figure size 432x288 with 1 Axes>"
      ]
     },
     "metadata": {},
     "output_type": "display_data"
    }
   ],
   "source": [
    "x = np.arange(0,len(Terms))\n",
    "plt.plot(Terms,Dictionary,'r', )\n",
    "plt.axis('scaled')\n",
    "plt.show()\n"
   ]
  },
  {
   "cell_type": "code",
   "execution_count": null,
   "metadata": {},
   "outputs": [],
   "source": []
  }
 ],
 "metadata": {
  "kernelspec": {
   "display_name": "Python 2",
   "language": "python",
   "name": "python2"
  },
  "language_info": {
   "codemirror_mode": {
    "name": "ipython",
    "version": 3
   },
   "file_extension": ".py",
   "mimetype": "text/x-python",
   "name": "python",
   "nbconvert_exporter": "python",
   "pygments_lexer": "ipython3",
   "version": "3.7.0"
  }
 },
 "nbformat": 4,
 "nbformat_minor": 2
}
